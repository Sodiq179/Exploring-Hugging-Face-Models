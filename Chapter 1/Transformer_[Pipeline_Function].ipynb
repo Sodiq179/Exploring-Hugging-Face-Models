{
  "nbformat": 4,
  "nbformat_minor": 0,
  "metadata": {
    "colab": {
      "provenance": []
    },
    "kernelspec": {
      "name": "python3",
      "display_name": "Python 3"
    },
    "language_info": {
      "name": "python"
    }
  },
  "cells": [
    {
      "cell_type": "markdown",
      "source": [
        "**Setting up Transformer**"
      ],
      "metadata": {
        "id": "haerSBMFSiUO"
      }
    },
    {
      "cell_type": "code",
      "execution_count": 38,
      "metadata": {
        "colab": {
          "base_uri": "https://localhost:8080/"
        },
        "id": "Pi9fgDYfSIqN",
        "outputId": "c9e6c590-ac17-4f22-e38f-e705226267f2"
      },
      "outputs": [
        {
          "output_type": "stream",
          "name": "stdout",
          "text": [
            "Looking in indexes: https://pypi.org/simple, https://us-python.pkg.dev/colab-wheels/public/simple/\n",
            "Requirement already satisfied: transformers[sentencepiece] in /usr/local/lib/python3.8/dist-packages (4.26.1)\n",
            "Requirement already satisfied: numpy>=1.17 in /usr/local/lib/python3.8/dist-packages (from transformers[sentencepiece]) (1.21.6)\n",
            "Requirement already satisfied: tokenizers!=0.11.3,<0.14,>=0.11.1 in /usr/local/lib/python3.8/dist-packages (from transformers[sentencepiece]) (0.13.2)\n",
            "Requirement already satisfied: pyyaml>=5.1 in /usr/local/lib/python3.8/dist-packages (from transformers[sentencepiece]) (6.0)\n",
            "Requirement already satisfied: tqdm>=4.27 in /usr/local/lib/python3.8/dist-packages (from transformers[sentencepiece]) (4.64.1)\n",
            "Requirement already satisfied: packaging>=20.0 in /usr/local/lib/python3.8/dist-packages (from transformers[sentencepiece]) (23.0)\n",
            "Requirement already satisfied: filelock in /usr/local/lib/python3.8/dist-packages (from transformers[sentencepiece]) (3.9.0)\n",
            "Requirement already satisfied: regex!=2019.12.17 in /usr/local/lib/python3.8/dist-packages (from transformers[sentencepiece]) (2022.6.2)\n",
            "Requirement already satisfied: huggingface-hub<1.0,>=0.11.0 in /usr/local/lib/python3.8/dist-packages (from transformers[sentencepiece]) (0.12.1)\n",
            "Requirement already satisfied: requests in /usr/local/lib/python3.8/dist-packages (from transformers[sentencepiece]) (2.25.1)\n",
            "Requirement already satisfied: sentencepiece!=0.1.92,>=0.1.91 in /usr/local/lib/python3.8/dist-packages (from transformers[sentencepiece]) (0.1.97)\n",
            "Requirement already satisfied: protobuf<=3.20.2 in /usr/local/lib/python3.8/dist-packages (from transformers[sentencepiece]) (3.19.6)\n",
            "Requirement already satisfied: typing-extensions>=3.7.4.3 in /usr/local/lib/python3.8/dist-packages (from huggingface-hub<1.0,>=0.11.0->transformers[sentencepiece]) (4.4.0)\n",
            "Requirement already satisfied: certifi>=2017.4.17 in /usr/local/lib/python3.8/dist-packages (from requests->transformers[sentencepiece]) (2022.12.7)\n",
            "Requirement already satisfied: idna<3,>=2.5 in /usr/local/lib/python3.8/dist-packages (from requests->transformers[sentencepiece]) (2.10)\n",
            "Requirement already satisfied: urllib3<1.27,>=1.21.1 in /usr/local/lib/python3.8/dist-packages (from requests->transformers[sentencepiece]) (1.24.3)\n",
            "Requirement already satisfied: chardet<5,>=3.0.2 in /usr/local/lib/python3.8/dist-packages (from requests->transformers[sentencepiece]) (4.0.0)\n"
          ]
        }
      ],
      "source": [
        "!pip install transformers[sentencepiece]"
      ]
    },
    {
      "cell_type": "markdown",
      "source": [
        "**Importing Transformer Library**"
      ],
      "metadata": {
        "id": "fSRluLl_q14y"
      }
    },
    {
      "cell_type": "code",
      "source": [
        "from transformers import pipeline"
      ],
      "metadata": {
        "id": "kkoh_Y2Opqr5"
      },
      "execution_count": 39,
      "outputs": []
    },
    {
      "cell_type": "markdown",
      "source": [
        "**Sentiment Analysis with the pipeline function**"
      ],
      "metadata": {
        "id": "0NwrAo4jrC7Z"
      }
    },
    {
      "cell_type": "code",
      "source": [
        "sentiment = pipeline(\"sentiment-analysis\")\n",
        "sentiment(\"I have been waiting my whole life for this interesting moment\")"
      ],
      "metadata": {
        "colab": {
          "base_uri": "https://localhost:8080/"
        },
        "id": "FbH2zTMLpqx4",
        "outputId": "b21335c7-5753-4ab6-ced3-33fc70008166"
      },
      "execution_count": 11,
      "outputs": [
        {
          "output_type": "stream",
          "name": "stderr",
          "text": [
            "No model was supplied, defaulted to distilbert-base-uncased-finetuned-sst-2-english and revision af0f99b (https://huggingface.co/distilbert-base-uncased-finetuned-sst-2-english).\n",
            "Using a pipeline without specifying a model name and revision in production is not recommended.\n",
            "Ignoring args : ('I have been waiting my whole life for this sad moment',)\n"
          ]
        },
        {
          "output_type": "execute_result",
          "data": {
            "text/plain": [
              "[{'label': 'POSITIVE', 'score': 0.9964556694030762}]"
            ]
          },
          "metadata": {},
          "execution_count": 11
        }
      ]
    },
    {
      "cell_type": "code",
      "source": [
        "sentiment(\"I have been trying to avoid this sad moment my whole life\")"
      ],
      "metadata": {
        "colab": {
          "base_uri": "https://localhost:8080/"
        },
        "id": "FobT8phIpq1Q",
        "outputId": "25e2cf8f-4c12-440b-f0de-13da71dd6e29"
      },
      "execution_count": 12,
      "outputs": [
        {
          "output_type": "execute_result",
          "data": {
            "text/plain": [
              "[{'label': 'NEGATIVE', 'score': 0.9368287324905396}]"
            ]
          },
          "metadata": {},
          "execution_count": 12
        }
      ]
    },
    {
      "cell_type": "markdown",
      "source": [
        "**Zero shot classification with the pipeline function**"
      ],
      "metadata": {
        "id": "IC01BjKuruhy"
      }
    },
    {
      "cell_type": "code",
      "source": [
        "classifier = pipeline(\"zero-shot-classification\")\n",
        "classifier(\"I have been waiting my whole life for this interesting moment\",\n",
        "           candidate_labels = [\"education\",\"business\",\"life\",\"entertainment\"])"
      ],
      "metadata": {
        "colab": {
          "base_uri": "https://localhost:8080/"
        },
        "id": "WMEitpBVpq4n",
        "outputId": "9ac1a0c0-b0dd-4531-b752-b2c7a26c9bf2"
      },
      "execution_count": 14,
      "outputs": [
        {
          "output_type": "stream",
          "name": "stderr",
          "text": [
            "No model was supplied, defaulted to facebook/bart-large-mnli and revision c626438 (https://huggingface.co/facebook/bart-large-mnli).\n",
            "Using a pipeline without specifying a model name and revision in production is not recommended.\n"
          ]
        },
        {
          "output_type": "execute_result",
          "data": {
            "text/plain": [
              "{'sequence': 'I have been waiting my whole life for this interesting moment',\n",
              " 'labels': ['entertainment', 'life', 'business', 'education'],\n",
              " 'scores': [0.8636364936828613,\n",
              "  0.11869700998067856,\n",
              "  0.010005972348153591,\n",
              "  0.0076605649664998055]}"
            ]
          },
          "metadata": {},
          "execution_count": 14
        }
      ]
    },
    {
      "cell_type": "markdown",
      "source": [
        "**Text generation with the pipeline function**"
      ],
      "metadata": {
        "id": "-Wx2xfqXsjEC"
      }
    },
    {
      "cell_type": "code",
      "source": [
        "generator = pipeline(\"text-generation\")\n",
        "generator(\"I have been waiting my whole life for this interesting moment\")"
      ],
      "metadata": {
        "colab": {
          "base_uri": "https://localhost:8080/"
        },
        "id": "yX3xgtFXpq7u",
        "outputId": "61c9a36e-5d0b-458f-8828-01f8f88e49f6"
      },
      "execution_count": 16,
      "outputs": [
        {
          "output_type": "stream",
          "name": "stderr",
          "text": [
            "No model was supplied, defaulted to gpt2 and revision 6c0e608 (https://huggingface.co/gpt2).\n",
            "Using a pipeline without specifying a model name and revision in production is not recommended.\n",
            "Setting `pad_token_id` to `eos_token_id`:50256 for open-end generation.\n"
          ]
        },
        {
          "output_type": "execute_result",
          "data": {
            "text/plain": [
              "[{'generated_text': 'I have been waiting my whole life for this interesting moment.\"\\n\\nA week ago, they sent a copy of the petition in May for a review, telling them to remove their work from Twitter. The news, however, only caught them off guard'}]"
            ]
          },
          "metadata": {},
          "execution_count": 16
        }
      ]
    },
    {
      "cell_type": "code",
      "source": [
        "generator = pipeline(\"text-generation\", model=\"distilgpt2\")\n",
        "generator(\"I have been waiting my whole life for this interesting moment\",\n",
        "          max_length=50,\n",
        "          num_return_sequences=3)"
      ],
      "metadata": {
        "colab": {
          "base_uri": "https://localhost:8080/"
        },
        "id": "54v-nYgXpq-i",
        "outputId": "6ab35b52-2d45-47c4-83d0-2d0924150863"
      },
      "execution_count": 18,
      "outputs": [
        {
          "output_type": "stream",
          "name": "stderr",
          "text": [
            "Setting `pad_token_id` to `eos_token_id`:50256 for open-end generation.\n"
          ]
        },
        {
          "output_type": "execute_result",
          "data": {
            "text/plain": [
              "[{'generated_text': \"I have been waiting my whole life for this interesting moment to come (not just because my phone was stolen) but because I'm feeling like I've finally arrived at a place with so much hope...\"},\n",
              " {'generated_text': 'I have been waiting my whole life for this interesting moment in my life.\"'},\n",
              " {'generated_text': 'I have been waiting my whole life for this interesting moment in your life because I thought it would be amazing how good it was.\\n\\n\\nThe rest of you, are very grateful for all your support and encouragement.\\nI hope you’'}]"
            ]
          },
          "metadata": {},
          "execution_count": 18
        }
      ]
    },
    {
      "cell_type": "markdown",
      "source": [
        "**Text completion with the pipeline function**"
      ],
      "metadata": {
        "id": "5DBc-KbcuRQA"
      }
    },
    {
      "cell_type": "code",
      "source": [
        "completion = pipeline(\"fill-mask\")\n",
        "completion(\"I have been waiting my whole life for this <mask> moment\")"
      ],
      "metadata": {
        "colab": {
          "base_uri": "https://localhost:8080/"
        },
        "id": "5l9zgHYwt_Ls",
        "outputId": "13afc534-7b4e-42b6-c219-4374e8e17d1b"
      },
      "execution_count": 23,
      "outputs": [
        {
          "output_type": "stream",
          "name": "stderr",
          "text": [
            "No model was supplied, defaulted to distilroberta-base and revision ec58a5b (https://huggingface.co/distilroberta-base).\n",
            "Using a pipeline without specifying a model name and revision in production is not recommended.\n"
          ]
        },
        {
          "output_type": "execute_result",
          "data": {
            "text/plain": [
              "[{'score': 0.13107961416244507,\n",
              "  'token': 13867,\n",
              "  'token_str': ' magical',\n",
              "  'sequence': 'I have been waiting my whole life for this magical moment'},\n",
              " {'score': 0.10318920761346817,\n",
              "  'token': 6089,\n",
              "  'token_str': ' exact',\n",
              "  'sequence': 'I have been waiting my whole life for this exact moment'},\n",
              " {'score': 0.06742408871650696,\n",
              "  'token': 1969,\n",
              "  'token_str': ' perfect',\n",
              "  'sequence': 'I have been waiting my whole life for this perfect moment'},\n",
              " {'score': 0.0602441132068634,\n",
              "  'token': 19465,\n",
              "  'token_str': ' glorious',\n",
              "  'sequence': 'I have been waiting my whole life for this glorious moment'},\n",
              " {'score': 0.04315923526883125,\n",
              "  'token': 14125,\n",
              "  'token_str': ' pivotal',\n",
              "  'sequence': 'I have been waiting my whole life for this pivotal moment'}]"
            ]
          },
          "metadata": {},
          "execution_count": 23
        }
      ]
    },
    {
      "cell_type": "markdown",
      "source": [
        "**Named Entity Recognition with the pipeline function**"
      ],
      "metadata": {
        "id": "Dwq8xqXSvGhh"
      }
    },
    {
      "cell_type": "code",
      "source": [
        "ner = pipeline(\"ner\", grouped_entities=True)\n",
        "ner(\"My name is Sodiq and I intern at Chevron in Nigeria.\")"
      ],
      "metadata": {
        "colab": {
          "base_uri": "https://localhost:8080/"
        },
        "id": "Li8YCPHMuk2D",
        "outputId": "41c35b0d-8e95-485f-b956-a7594d6c9b03"
      },
      "execution_count": 25,
      "outputs": [
        {
          "output_type": "stream",
          "name": "stderr",
          "text": [
            "No model was supplied, defaulted to dbmdz/bert-large-cased-finetuned-conll03-english and revision f2482bf (https://huggingface.co/dbmdz/bert-large-cased-finetuned-conll03-english).\n",
            "Using a pipeline without specifying a model name and revision in production is not recommended.\n",
            "/usr/local/lib/python3.8/dist-packages/transformers/pipelines/token_classification.py:159: UserWarning: `grouped_entities` is deprecated and will be removed in version v5.0.0, defaulted to `aggregation_strategy=\"simple\"` instead.\n",
            "  warnings.warn(\n"
          ]
        },
        {
          "output_type": "execute_result",
          "data": {
            "text/plain": [
              "[{'entity_group': 'PER',\n",
              "  'score': 0.9984581,\n",
              "  'word': 'Sodiq',\n",
              "  'start': 11,\n",
              "  'end': 16},\n",
              " {'entity_group': 'ORG',\n",
              "  'score': 0.9901595,\n",
              "  'word': 'Chevron',\n",
              "  'start': 33,\n",
              "  'end': 40},\n",
              " {'entity_group': 'LOC',\n",
              "  'score': 0.99987423,\n",
              "  'word': 'Nigeria',\n",
              "  'start': 44,\n",
              "  'end': 51}]"
            ]
          },
          "metadata": {},
          "execution_count": 25
        }
      ]
    },
    {
      "cell_type": "markdown",
      "source": [
        "**Question Answering with the pipeline function**"
      ],
      "metadata": {
        "id": "GqFO6hmdv4Ai"
      }
    },
    {
      "cell_type": "code",
      "source": [
        "question_answerer = pipeline(\"question-answering\")\n",
        "question_answerer(question = \"Where do I intern?\",\n",
        "                  context = \"My name is Sodiq and I intern at Chevron in Nigeria.\")"
      ],
      "metadata": {
        "colab": {
          "base_uri": "https://localhost:8080/"
        },
        "id": "x7_6PLAzv4_c",
        "outputId": "af9a65bd-518b-4a90-8f29-bb252da8fcd5"
      },
      "execution_count": 27,
      "outputs": [
        {
          "output_type": "stream",
          "name": "stderr",
          "text": [
            "No model was supplied, defaulted to distilbert-base-cased-distilled-squad and revision 626af31 (https://huggingface.co/distilbert-base-cased-distilled-squad).\n",
            "Using a pipeline without specifying a model name and revision in production is not recommended.\n"
          ]
        },
        {
          "output_type": "execute_result",
          "data": {
            "text/plain": [
              "{'score': 0.6077249646186829, 'start': 33, 'end': 40, 'answer': 'Chevron'}"
            ]
          },
          "metadata": {},
          "execution_count": 27
        }
      ]
    },
    {
      "cell_type": "markdown",
      "source": [
        "**Summarization with the pipeline function**"
      ],
      "metadata": {
        "id": "RMhNMOO8w6fB"
      }
    },
    {
      "cell_type": "code",
      "source": [
        "text = \"\"\"Human  beings  are  creative  beings,  and  politics  is the  principal  mode  of  theircreativity.\n",
        "There  are,  of  course,  other  endeavors  which  human  beings  as  creativebeings pursue.  \n",
        "They  draw pictures  as painters,  they make melodies  as  compo-sers,  \n",
        "they  put  on  pieces  of  words  as  writers,  they  construct   buildings  asarchitects,  \n",
        "they  fabricate  handicraft  as  artisans,  they  manufacture  goods  asworkers.   \n",
        "In  the  process   of  any  of  these  pursuits  they  produce   somethingtangible,  something  final:  \n",
        "a  portrait,  for  instance,  or  a  still  life,  a  song  or  asymphony,  a  poem  or  a  scholar's  book,  \n",
        "a  cottage  or  a  church,  a  table  or  avase,  a  machine  or  a  garment.\n",
        "It  is in the  pursuit of  politics  that  human  beings perpetually  produce,  andnever  produce  anything  tangible,  anything final.  \n",
        "\n",
        "Politics  is pure  creativity:  itis  a  pursuit  of  creativity  of  which  the  \"product\"  is  the  creativity  that  ispursued.  \n",
        "Of  all  the  modes  of  human  creativeness,  music is  most  comparableto  politics.  \n",
        "A  musical  composition,   without   being  vocalized,   is  dead;   itbecomes  actually  a  product   of  musical  creativity  only  in  the  mode  of  itsproduction:\n",
        "when  it  is performed  and  heard.  Similarly, politics  has  no  reality other  than  the  process  of  politics  being  pursued;  \n",
        "it  occurs  but  through  itself:in  an  act  of  politics. \"\"\"\n",
        "summarizer = pipeline(\"summarization\")\n",
        "summarizer(text)"
      ],
      "metadata": {
        "colab": {
          "base_uri": "https://localhost:8080/"
        },
        "id": "ICj4bPrYv5YJ",
        "outputId": "d59cd881-df0a-4cdd-9ae8-eb1038aa711e"
      },
      "execution_count": 43,
      "outputs": [
        {
          "output_type": "stream",
          "name": "stderr",
          "text": [
            "No model was supplied, defaulted to sshleifer/distilbart-cnn-12-6 and revision a4f8f3e (https://huggingface.co/sshleifer/distilbart-cnn-12-6).\n",
            "Using a pipeline without specifying a model name and revision in production is not recommended.\n"
          ]
        },
        {
          "output_type": "execute_result",
          "data": {
            "text/plain": [
              "[{'summary_text': ' Human  beings  are  creative  beings,  and  politics is the principal mode of their creativity . The pursuit of politics is pure creativity: it is a pursuit of creativity of which the \"product\" is the creativity that is pursued . In the pursuit of  politics, human  beings perpetually produce, and never produce anything  tangible,  anything final .'}]"
            ]
          },
          "metadata": {},
          "execution_count": 43
        }
      ]
    }
  ]
}